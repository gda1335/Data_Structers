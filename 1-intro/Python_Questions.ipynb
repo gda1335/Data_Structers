{
  "nbformat": 4,
  "nbformat_minor": 0,
  "metadata": {
    "kernelspec": {
      "display_name": "Python 3",
      "language": "python",
      "name": "python3"
    },
    "language_info": {
      "codemirror_mode": {
        "name": "ipython",
        "version": 3
      },
      "file_extension": ".py",
      "mimetype": "text/x-python",
      "name": "python",
      "nbconvert_exporter": "python",
      "pygments_lexer": "ipython3",
      "version": "3.6.5"
    },
    "colab": {
      "name": "Python Questions.ipynb",
      "provenance": [],
      "collapsed_sections": []
    }
  },
  "cells": [
    {
      "cell_type": "markdown",
      "metadata": {
        "id": "vo1W76NcSEka"
      },
      "source": [
        "## Python İş Mülakat Soru-Cevapları"
      ]
    },
    {
      "cell_type": "markdown",
      "metadata": {
        "id": "QXPFGhfLSEki"
      },
      "source": [
        "1) Python Nedir?\n",
        "* Python high-level, etkileşimli ve nesne tabanlı bir dildir.\n",
        "* Python okunabilirliği çok kolay bir dildir."
      ]
    },
    {
      "cell_type": "markdown",
      "metadata": {
        "id": "n9fgkJwOSEkj"
      },
      "source": [
        "2) Python'ın bazı temel özellikleri nelerdir?\n",
        "* Nesne Tabanlı\n",
        "* Free - open source\n",
        "* Büyük bir topluluğu var\n",
        "* Basit ve anlaşılır"
      ]
    },
    {
      "cell_type": "markdown",
      "metadata": {
        "id": "JlH8Et8GSEkk"
      },
      "source": [
        "3) Deep Copy ve Shallow Copy arasındaki farklar?\n",
        "* Deep copy: orijinal objeyi başka yeni bir objeye kopyalar ama orijinal obje değiştirilirse yeni obje değişmez."
      ]
    },
    {
      "cell_type": "code",
      "metadata": {
        "colab": {
          "base_uri": "https://localhost:8080/"
        },
        "id": "56wdTcrISEkl",
        "outputId": "2a020eb1-b17f-4338-d5d5-4904b8f1bcc8"
      },
      "source": [
        "import copy\n",
        "old_list = [[1, 1, 1], [2, 2, 2]]\n",
        "new_list = copy.deepcopy(old_list)\n",
        "old_list[1][0] = 100\n",
        "print(\"Old list:\", old_list)\n",
        "print(\"New list:\", new_list)"
      ],
      "execution_count": 3,
      "outputs": [
        {
          "output_type": "stream",
          "name": "stdout",
          "text": [
            "Old list: [[1, 1, 1], [100, 2, 2]]\n",
            "New list: [[1, 1, 1], [2, 2, 2]]\n"
          ]
        }
      ]
    },
    {
      "cell_type": "markdown",
      "metadata": {
        "id": "OvYg6Gt6SEko"
      },
      "source": [
        "* Shallow copy: orijinal objeyi başka yeni bir objeye kopyalar ama orijinal obje değiştirilirse yeni obje de değişir."
      ]
    },
    {
      "cell_type": "code",
      "metadata": {
        "colab": {
          "base_uri": "https://localhost:8080/"
        },
        "id": "zwbLkJ_USEkp",
        "outputId": "a4bbb2e5-9451-4bb1-e4cd-d255787bccaa"
      },
      "source": [
        "old_list2 = [[1, 1, 1], [2, 2, 2]]\n",
        "new_list2 = copy.copy(old_list2)\n",
        "\n",
        "old_list2[1][1] = 100\n",
        "\n",
        "print(\"Old list:\", old_list2)\n",
        "print(\"New list:\", new_list2)"
      ],
      "execution_count": 4,
      "outputs": [
        {
          "output_type": "stream",
          "name": "stdout",
          "text": [
            "Old list: [[1, 1, 1], [2, 100, 2]]\n",
            "New list: [[1, 1, 1], [2, 100, 2]]\n"
          ]
        }
      ]
    },
    {
      "cell_type": "markdown",
      "metadata": {
        "id": "qMlF26E3SEkr"
      },
      "source": [
        "4) Liste ve Tuple arası fark nedir?\n",
        "* List değişkendir\n",
        "* Tuple değişmez"
      ]
    },
    {
      "cell_type": "code",
      "metadata": {
        "colab": {
          "base_uri": "https://localhost:8080/"
        },
        "id": "1Fq6xdAHSEks",
        "outputId": "8cb2051c-0f01-4a52-e1d7-c46de9f27a95"
      },
      "source": [
        "liste = [1,2,3]\n",
        "liste[0] = 100\n",
        "print(liste)\n",
        "tup = (1,2,3)\n",
        "# tup[0] = 100 #boyle bir sey olmaz"
      ],
      "execution_count": 5,
      "outputs": [
        {
          "output_type": "stream",
          "name": "stdout",
          "text": [
            "[100, 2, 3]\n"
          ]
        }
      ]
    },
    {
      "cell_type": "markdown",
      "metadata": {
        "id": "dIkBuQW-SEkt"
      },
      "source": [
        "5) Flask nedir?\n",
        "* Web framework for python\n",
        "\n",
        "#web tasarimi ile alakali bir uygulama.\n",
        ";"
      ]
    },
    {
      "cell_type": "markdown",
      "metadata": {
        "id": "Su-QlSa6SEku"
      },
      "source": [
        "6) Python da Memory Yönetimi nasıl?\n",
        "* Python özel bir heap space'e sahip. Bu nedenle bizim erişimimiz yok.  --> heap space memory de bir alan gibi .\n",
        "\n",
        "* Ama core API ile bazı özelliklerine erişim sağlayabiliyoruz."
      ]
    },
    {
      "cell_type": "markdown",
      "metadata": {
        "id": "D6F9fQjYSEku"
      },
      "source": [
        "7) help() ve dir() fonksiyonu arasındaki farklar nelerdir?\n",
        "* help() fonksiyonu dokümanı string olarak sergiler\n",
        "* dir() fonksiyonu istenilen objenin tüm özelliklerini metotlarını sergiler"
      ]
    },
    {
      "cell_type": "code",
      "metadata": {
        "colab": {
          "base_uri": "https://localhost:8080/"
        },
        "id": "zvDrXlSCSEkv",
        "outputId": "4f035f76-affc-4b65-93d3-55c1bb0570e8"
      },
      "source": [
        "help(copy.copy)\n",
        "#shallow copy "
      ],
      "execution_count": 6,
      "outputs": [
        {
          "output_type": "stream",
          "name": "stdout",
          "text": [
            "Help on function copy in module copy:\n",
            "\n",
            "copy(x)\n",
            "    Shallow copy operation on arbitrary Python objects.\n",
            "    \n",
            "    See the module's __doc__ string for more info.\n",
            "\n"
          ]
        }
      ]
    },
    {
      "cell_type": "code",
      "metadata": {
        "id": "3dny3xBjSEkw",
        "outputId": "887c37e0-4adf-4287-97f1-3e57cfe34a16"
      },
      "source": [
        "dir(copy.copy)\n",
        "\n",
        "#butun metodlari sergiler!"
      ],
      "execution_count": null,
      "outputs": [
        {
          "data": {
            "text/plain": [
              "['__annotations__',\n",
              " '__call__',\n",
              " '__class__',\n",
              " '__closure__',\n",
              " '__code__',\n",
              " '__defaults__',\n",
              " '__delattr__',\n",
              " '__dict__',\n",
              " '__dir__',\n",
              " '__doc__',\n",
              " '__eq__',\n",
              " '__format__',\n",
              " '__ge__',\n",
              " '__get__',\n",
              " '__getattribute__',\n",
              " '__globals__',\n",
              " '__gt__',\n",
              " '__hash__',\n",
              " '__init__',\n",
              " '__init_subclass__',\n",
              " '__kwdefaults__',\n",
              " '__le__',\n",
              " '__lt__',\n",
              " '__module__',\n",
              " '__name__',\n",
              " '__ne__',\n",
              " '__new__',\n",
              " '__qualname__',\n",
              " '__reduce__',\n",
              " '__reduce_ex__',\n",
              " '__repr__',\n",
              " '__setattr__',\n",
              " '__sizeof__',\n",
              " '__str__',\n",
              " '__subclasshook__']"
            ]
          },
          "execution_count": 5,
          "metadata": {},
          "output_type": "execute_result"
        }
      ]
    },
    {
      "cell_type": "markdown",
      "metadata": {
        "id": "yEjcpcW1SEkw"
      },
      "source": [
        "7) Monkey Patching Nedir? !!!\n",
        "* Kod run-time'da iken bir classı yada modülü değiştimeye yarar\n",
        "* Genelde bug ayıklamak için kullanılır."
      ]
    },
    {
      "cell_type": "markdown",
      "metadata": {
        "id": "VcEibCiqSEkx"
      },
      "source": [
        " Dictionary Nedir\n",
        "* İçerisinde key-value çiftini barındıran kullanışlı yapılardır.\n",
        "* Mesela Ankara = key ve 1000 sayısıda bu key'in value'su"
      ]
    },
    {
      "cell_type": "code",
      "metadata": {
        "colab": {
          "base_uri": "https://localhost:8080/"
        },
        "id": "GAzm3tlESEkx",
        "outputId": "89867af0-752e-4995-b42c-08a7f52f42c6"
      },
      "source": [
        "dictionary = {\"Ankara\":1000,\"istanbul\":2000}\n",
        "print(dictionary)\n",
        "\n",
        "\n",
        "print(dictionary.keys())"
      ],
      "execution_count": 8,
      "outputs": [
        {
          "output_type": "stream",
          "name": "stdout",
          "text": [
            "{'Ankara': 1000, 'istanbul': 2000}\n",
            "dict_keys(['Ankara', 'istanbul'])\n"
          ]
        }
      ]
    },
    {
      "cell_type": "markdown",
      "metadata": {
        "id": "amkWIJFHSEky"
      },
      "source": [
        "9) args ve kwargs kavramları nelerdir?\n",
        "* Bazı durumlarda fonksiyonların kaç tane input parametresi alacağını bilemeyiz bu nedenle *args'ı kullanırız. \n",
        "##args liste aliyor icine\n",
        "\n",
        "\n",
        "* kwargs ise dictionary gibi kullanılır.\n",
        "\n",
        "##kwargs sozluk aliyor"
      ]
    },
    {
      "cell_type": "code",
      "metadata": {
        "id": "UwPC1pwASEky",
        "outputId": "de390a1a-6dcc-4874-dcfd-b81bb4067a39"
      },
      "source": [
        "def deneme(*args):\n",
        "    for each in args:\n",
        "        print(each)\n",
        "        \n",
        "deneme(10,11,12)"
      ],
      "execution_count": null,
      "outputs": [
        {
          "name": "stdout",
          "output_type": "stream",
          "text": [
            "10\n",
            "11\n",
            "12\n"
          ]
        }
      ]
    },
    {
      "cell_type": "code",
      "metadata": {
        "id": "athYo7nJSEkz",
        "outputId": "0800baf6-e22d-4ee5-b96c-ddb03842634d"
      },
      "source": [
        "def deneme2(**kwargs):\n",
        "    for each in kwargs:\n",
        "        print(each,kwargs[each])\n",
        "deneme2(a=1,b=2,c=3)"
      ],
      "execution_count": null,
      "outputs": [
        {
          "name": "stdout",
          "output_type": "stream",
          "text": [
            "a 1\n",
            "b 2\n",
            "c 3\n"
          ]
        }
      ]
    },
    {
      "cell_type": "markdown",
      "metadata": {
        "id": "gV7JTixMSEkz"
      },
      "source": [
        "10) Negative indexler nedir?\n",
        "* Normalde index sıfırdan saymaya başlar negative index tersten saymaya başlar."
      ]
    },
    {
      "cell_type": "code",
      "metadata": {
        "colab": {
          "base_uri": "https://localhost:8080/"
        },
        "id": "40dac6zWSEk0",
        "outputId": "f56aa2ec-1422-4d16-812d-f9eca42b6969"
      },
      "source": [
        "liste = [1,2,3,4,5]\n",
        "print(\"positive index: \",liste[0])\n",
        "print(\"negative index: \",liste[-1])\n",
        "\n",
        "\n",
        "\n",
        "##mesela tersten cevirelim listemizi! veya stringimizi!\n",
        "\n",
        "g=\"izmir\"\n",
        "\n",
        "print(g[::-1])\n",
        "\n",
        "\n",
        "v=[1,2,23,556]\n",
        "\n",
        "v[::-1] #tersten say!\n",
        "\n",
        "\n",
        "## ornek palindrom \n",
        "\n",
        "isim=  \"ece\"\n",
        "\n",
        "if i==i[::-1]:\n",
        "  print(\"palindrom name!!!!!\")\n",
        "else:\n",
        "  print(\"no\")\n",
        "\n",
        "#fonk ornek!!!\n",
        "def pal(d):\n",
        "  if d==d[:-1]:\n",
        "    return \"yes\"\n",
        "  else:\n",
        "    return \"no\"\n",
        "\n",
        "print(pal(\"ali\"))"
      ],
      "execution_count": 19,
      "outputs": [
        {
          "output_type": "stream",
          "name": "stdout",
          "text": [
            "positive index:  1\n",
            "negative index:  5\n",
            "rimzi\n",
            "palindrom name!!!!!\n",
            "no\n"
          ]
        }
      ]
    },
    {
      "cell_type": "markdown",
      "metadata": {
        "id": "-JksVOXCSEk1"
      },
      "source": [
        "11) Listeyi nasıl random yaparsın?"
      ]
    },
    {
      "cell_type": "code",
      "metadata": {
        "colab": {
          "base_uri": "https://localhost:8080/"
        },
        "id": "1MTLb9wNSEk1",
        "outputId": "6b7e8335-91da-41ba-df8a-6319161d0eab"
      },
      "source": [
        "mylist=[0,1,2,3,4,5,6,7,8]\n",
        "from random import shuffle\n",
        "shuffle(mylist)\n",
        "print(\"shuffled: \", mylist)\n",
        "mylist.sort()\n",
        "print(\"sorted: \",mylist)\n",
        "\n",
        "\n",
        "\n",
        "\n",
        "#random moduluyle numpy'de array uretebiliriz\n",
        "#.randint ile aralık \n",
        "#rand ile  adet secilir ozetle!!!"
      ],
      "execution_count": 20,
      "outputs": [
        {
          "output_type": "stream",
          "name": "stdout",
          "text": [
            "shuffled:  [5, 6, 1, 2, 4, 0, 8, 3, 7]\n",
            "sorted:  [0, 1, 2, 3, 4, 5, 6, 7, 8]\n"
          ]
        }
      ]
    },
    {
      "cell_type": "markdown",
      "metadata": {
        "id": "7OFEDwP5SEk2"
      },
      "source": [
        "12) join() ve split() fonksiyonları ne işe yarar?"
      ]
    },
    {
      "cell_type": "code",
      "metadata": {
        "colab": {
          "base_uri": "https://localhost:8080/"
        },
        "id": "1hkbvH18SEk2",
        "outputId": "ca1ed1c9-bd90-4723-cbdd-190a11317f2d"
      },
      "source": [
        "yeni = \".\".join(\"deneme\")\n",
        "print(yeni)\n",
        "first = yeni.split(\".\")\n",
        "print(first)\n",
        "j = \"\".join(first)\n",
        "print(j)"
      ],
      "execution_count": 21,
      "outputs": [
        {
          "output_type": "stream",
          "name": "stdout",
          "text": [
            "d.e.n.e.m.e\n",
            "['d', 'e', 'n', 'e', 'm', 'e']\n",
            "deneme\n"
          ]
        }
      ]
    },
    {
      "cell_type": "markdown",
      "metadata": {
        "id": "YdalcGvoSEk3"
      },
      "source": [
        "13) Python da büyük küçük harf önemli mi?\n",
        "* Evet önemli\n",
        "\n"
      ]
    },
    {
      "cell_type": "code",
      "metadata": {
        "id": "oWQZIF3OSEk3"
      },
      "source": [
        "deneme = \"datai\"\n",
        "#Deneme calismaz"
      ],
      "execution_count": 22,
      "outputs": []
    },
    {
      "cell_type": "markdown",
      "metadata": {
        "id": "Qg0-k-mvSEk3"
      },
      "source": [
        "14) Keywords Identifier olarak kullanılır mı?\n",
        "* HAYIR --> hic bi dilde kullanılmaz zaten :D\n",
        "\n",
        "* float bir keyword'dür ve identifier olarak kullanılmaz."
      ]
    },
    {
      "cell_type": "code",
      "metadata": {
        "id": "yxd7MrxtSEk4"
      },
      "source": [
        "#float = 15 # boyle kullanilmaz\n",
        "\n",
        "#bu Böyle kullanilir!!  float(14)\n",
        "\n"
      ],
      "execution_count": 24,
      "outputs": []
    },
    {
      "cell_type": "markdown",
      "metadata": {
        "id": "6o5s6NEbSEk4"
      },
      "source": [
        "15) Leading ve Trailing whitespace ne demek?\n",
        "* Bir string olsun \"   datai   \"\n",
        "* Bu stringin başında ve sonunda boşluklar var.\n",
        "* Başında olan boşluk leading whitespace\n",
        "* Sonunda olan boşluk trailing whitespace\n",
        "* Bunları aşağıdaki gibi yok edebiliriz."
      ]
    },
    {
      "cell_type": "code",
      "metadata": {
        "colab": {
          "base_uri": "https://localhost:8080/"
        },
        "id": "IbBLBKpiSEk4",
        "outputId": "b928a8a0-7c21-4d47-ef93-62587b2d76bb"
      },
      "source": [
        "string = '   datai   '\n",
        "print(string.lstrip()) # ondeki boslugu yok et\n",
        "print(string.rstrip()) # arkadaki boslugu yok et\n",
        "print(string.strip())  # ondeki ve arkadaki boslukları yok et "
      ],
      "execution_count": 25,
      "outputs": [
        {
          "output_type": "stream",
          "name": "stdout",
          "text": [
            "datai   \n",
            "   datai\n",
            "datai\n"
          ]
        }
      ]
    },
    {
      "cell_type": "markdown",
      "metadata": {
        "id": "JbQG7mzfSEk5"
      },
      "source": [
        "16) Bir string'i küçük ve büyük harfe nasıl çevirirsin?"
      ]
    },
    {
      "cell_type": "code",
      "metadata": {
        "colab": {
          "base_uri": "https://localhost:8080/"
        },
        "id": "zNmApgwbSEk5",
        "outputId": "523d2fe4-eb34-4621-8083-7867979b0981"
      },
      "source": [
        "string = \"DATai\"\n",
        "print(string.lower())\n",
        "print(string.upper())"
      ],
      "execution_count": 26,
      "outputs": [
        {
          "output_type": "stream",
          "name": "stdout",
          "text": [
            "datai\n",
            "DATAI\n"
          ]
        }
      ]
    },
    {
      "cell_type": "markdown",
      "metadata": {
        "id": "yHSXfJkiSEk5"
      },
      "source": [
        "17) Python da Pass, Break ve Continue nasıl kullanılır?\n",
        "* Bir fonksiyon tanımladık ama içine ne yazacağımızı henüz bilemedik bizde pass yazarız"
      ]
    },
    {
      "cell_type": "code",
      "metadata": {
        "id": "9cPstPtXSEk5"
      },
      "source": [
        "# pass\n",
        "def datai():\n",
        "    pass"
      ],
      "execution_count": 27,
      "outputs": []
    },
    {
      "cell_type": "code",
      "metadata": {
        "colab": {
          "base_uri": "https://localhost:8080/"
        },
        "id": "vSRF9pA1SEk6",
        "outputId": "36eb2b65-ebf1-4244-c3a3-637c6912c249"
      },
      "source": [
        "# break\n",
        "for each in range(5):\n",
        "    print(each)\n",
        "    if each == 4:\n",
        "        print(\"buldum neyi: \",each)\n",
        "        break"
      ],
      "execution_count": 29,
      "outputs": [
        {
          "output_type": "stream",
          "name": "stdout",
          "text": [
            "0\n",
            "1\n",
            "2\n",
            "3\n",
            "4\n",
            "buldum neyi:  4\n"
          ]
        }
      ]
    },
    {
      "cell_type": "code",
      "metadata": {
        "colab": {
          "base_uri": "https://localhost:8080/"
        },
        "id": "9dEkvHGJSEk6",
        "outputId": "110cec46-6b11-48c6-c701-8d0caa8aaffb"
      },
      "source": [
        "# continue\n",
        "for each in range(5):\n",
        "    print(each)\n",
        "    if each == 2:\n",
        "        print(\"eşit sayı bulundu\")\n",
        "        continue"
      ],
      "execution_count": 30,
      "outputs": [
        {
          "output_type": "stream",
          "name": "stdout",
          "text": [
            "0\n",
            "1\n",
            "2\n",
            "eşit sayı bulundu\n",
            "3\n",
            "4\n"
          ]
        }
      ]
    },
    {
      "cell_type": "markdown",
      "metadata": {
        "id": "0RDCcFPESEk7"
      },
      "source": [
        "18) //, %, and ** işaretleri nelerdir?\n",
        "* // işareti operator olarak geçer ve bölme işleminin integer kısmını döndürür\n",
        "* ** power yani üssü anlamına gelir \n",
        "* % bölüm sonucu kalanı verir"
      ]
    },
    {
      "cell_type": "code",
      "metadata": {
        "colab": {
          "base_uri": "https://localhost:8080/"
        },
        "id": "nPX_zW2ZSEk7",
        "outputId": "e33f5586-5a40-4bec-db90-a06cd74bd4b1"
      },
      "source": [
        "# //\n",
        "print(10/3)\n",
        "print(10//3) #tam kismi alir"
      ],
      "execution_count": 32,
      "outputs": [
        {
          "output_type": "stream",
          "name": "stdout",
          "text": [
            "3.3333333333333335\n",
            "3\n"
          ]
        }
      ]
    },
    {
      "cell_type": "code",
      "metadata": {
        "id": "jii0jOfbSEk7"
      },
      "source": [
        "# ** \n",
        "print(9*9)\n",
        "print(9**2)"
      ],
      "execution_count": null,
      "outputs": []
    },
    {
      "cell_type": "code",
      "metadata": {
        "id": "XtLczgD5SEk7"
      },
      "source": [
        "# %\n",
        "print(10/3)\n",
        "print(10%3)"
      ],
      "execution_count": null,
      "outputs": []
    },
    {
      "cell_type": "markdown",
      "metadata": {
        "id": "Wz68lbNBSEk8"
      },
      "source": [
        "19) Membership operator ne demektir?"
      ]
    },
    {
      "cell_type": "code",
      "metadata": {
        "id": "C3ALVU1kSEk8"
      },
      "source": [
        "\"ai\" in \"datai\"\n",
        "\n",
        "#forda cok kullanilir."
      ],
      "execution_count": null,
      "outputs": []
    },
    {
      "cell_type": "code",
      "metadata": {
        "id": "2kGoKOkxSEk8"
      },
      "source": [
        "\"ai\" not in \"istanbul\""
      ],
      "execution_count": null,
      "outputs": []
    }
  ]
}